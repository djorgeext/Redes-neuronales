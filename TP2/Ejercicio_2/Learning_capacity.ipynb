{
 "cells": [
  {
   "cell_type": "code",
   "execution_count": 1,
   "metadata": {},
   "outputs": [
    {
     "ename": "KeyboardInterrupt",
     "evalue": "",
     "output_type": "error",
     "traceback": [
      "\u001b[0;31m---------------------------------------------------------------------------\u001b[0m",
      "\u001b[0;31mKeyboardInterrupt\u001b[0m                         Traceback (most recent call last)",
      "\u001b[0;32m/tmp/ipykernel_160214/3102142536.py\u001b[0m in \u001b[0;36m<module>\u001b[0;34m\u001b[0m\n\u001b[1;32m     25\u001b[0m         \u001b[0mw\u001b[0m \u001b[0;34m+=\u001b[0m \u001b[0mnp\u001b[0m\u001b[0;34m.\u001b[0m\u001b[0mouter\u001b[0m\u001b[0;34m(\u001b[0m\u001b[0mx\u001b[0m\u001b[0;34m,\u001b[0m \u001b[0mx\u001b[0m\u001b[0;34m)\u001b[0m\u001b[0;34m\u001b[0m\u001b[0;34m\u001b[0m\u001b[0m\n\u001b[1;32m     26\u001b[0m         \u001b[0mnp\u001b[0m\u001b[0;34m.\u001b[0m\u001b[0mfill_diagonal\u001b[0m\u001b[0;34m(\u001b[0m\u001b[0mw\u001b[0m\u001b[0;34m,\u001b[0m \u001b[0;36m0\u001b[0m\u001b[0;34m)\u001b[0m\u001b[0;34m\u001b[0m\u001b[0;34m\u001b[0m\u001b[0m\n\u001b[0;32m---> 27\u001b[0;31m         \u001b[0mx_aux\u001b[0m \u001b[0;34m=\u001b[0m \u001b[0mnp\u001b[0m\u001b[0;34m.\u001b[0m\u001b[0mdot\u001b[0m\u001b[0;34m(\u001b[0m\u001b[0mw\u001b[0m\u001b[0;34m,\u001b[0m \u001b[0mx\u001b[0m\u001b[0;34m.\u001b[0m\u001b[0mflatten\u001b[0m\u001b[0;34m(\u001b[0m\u001b[0;34m)\u001b[0m\u001b[0;34m)\u001b[0m\u001b[0;34m\u001b[0m\u001b[0;34m\u001b[0m\u001b[0m\n\u001b[0m\u001b[1;32m     28\u001b[0m         \u001b[0mx_aux\u001b[0m \u001b[0;34m=\u001b[0m \u001b[0msigno\u001b[0m\u001b[0;34m(\u001b[0m\u001b[0mx_aux\u001b[0m\u001b[0;34m.\u001b[0m\u001b[0mreshape\u001b[0m\u001b[0;34m(\u001b[0m\u001b[0mimg_ancho\u001b[0m\u001b[0;34m,\u001b[0m \u001b[0mimg_ancho\u001b[0m\u001b[0;34m)\u001b[0m\u001b[0;34m)\u001b[0m\u001b[0;34m\u001b[0m\u001b[0;34m\u001b[0m\u001b[0m\n\u001b[1;32m     29\u001b[0m         \u001b[0mp_max\u001b[0m \u001b[0;34m+=\u001b[0m \u001b[0;36m1\u001b[0m\u001b[0;34m\u001b[0m\u001b[0;34m\u001b[0m\u001b[0m\n",
      "\u001b[0;31mKeyboardInterrupt\u001b[0m: "
     ]
    }
   ],
   "source": [
    "import numpy as np\n",
    "import matplotlib.pyplot as plt\n",
    "\n",
    "def signo(x):\n",
    "    x = np.where(x > 0, 1, -1)\n",
    "    return x\n",
    "\n",
    "# Definición de variables\n",
    "e_probability = [0.001, 0.0036, 0.01, 0.05, 0.1]\n",
    "C_esperado = [0.105, 0.138, 0.185, 0.37, 0.61]\n",
    "# Inicialización de resultados\n",
    "p_error = np.zeros(len(e_probability))\n",
    "C = np.zeros(p_error.shape)\n",
    "img_ancho = 120\n",
    "\n",
    "# generacion de patrones\n",
    "w = np.zeros((img_ancho**2, img_ancho**2))\n",
    "p_max = 0\n",
    "# Cálculo de resultados\n",
    "for i in range(len(e_probability)):\n",
    "    \n",
    "    while p_error[i] < e_probability[i]:\n",
    "        # generación de patrones\n",
    "        x = 2*np.random.binomial(1, 0.499, (img_ancho, img_ancho)) - 1\n",
    "        w += np.outer(x, x)\n",
    "        np.fill_diagonal(w, 0)\n",
    "        x_aux = np.dot(w, x.flatten())\n",
    "        x_aux = signo(x_aux.reshape(img_ancho, img_ancho))\n",
    "        p_max += 1\n",
    "        p_error[i] = np.mean(x_aux != x)\n",
    "\n",
    "\n",
    "    C[i] = (p_max)/(x.size)\n",
    "    print('Probabilidad de error calculada: ', p_error[i], 'para una probabilidad de ', e_probability[i])\n",
    "    print('Capacidad de almacenamiento calculada: ', C[i], 'para una capacidad esperada de ', C_esperado[i])        "
   ]
  },
  {
   "cell_type": "code",
   "execution_count": 5,
   "metadata": {},
   "outputs": [
    {
     "name": "stdout",
     "output_type": "stream",
     "text": [
      "Probabilidad de error calculada:  0.0011 para una probabilidad de  0.001\n",
      "Capacidad de almacenamiento calculada:  0.0015 para una capacidad esperada de  0.105\n",
      "Probabilidad de error calculada:  0.0036 para una probabilidad de  0.0036\n",
      "Capacidad de almacenamiento calculada:  0.0067 para una capacidad esperada de  0.138\n",
      "Probabilidad de error calculada:  0.01 para una probabilidad de  0.01\n",
      "Capacidad de almacenamiento calculada:  0.0205 para una capacidad esperada de  0.185\n",
      "Probabilidad de error calculada:  0.05 para una probabilidad de  0.05\n",
      "Capacidad de almacenamiento calculada:  0.1179 para una capacidad esperada de  0.37\n"
     ]
    },
    {
     "ename": "KeyboardInterrupt",
     "evalue": "",
     "output_type": "error",
     "traceback": [
      "\u001b[0;31m---------------------------------------------------------------------------\u001b[0m",
      "\u001b[0;31mKeyboardInterrupt\u001b[0m                         Traceback (most recent call last)",
      "\u001b[0;32m/tmp/ipykernel_204356/1952974219.py\u001b[0m in \u001b[0;36m<module>\u001b[0;34m\u001b[0m\n\u001b[1;32m     30\u001b[0m         \u001b[0mx\u001b[0m\u001b[0;34m[\u001b[0m\u001b[0mn\u001b[0m\u001b[0;34m]\u001b[0m \u001b[0;34m=\u001b[0m \u001b[0;36m2\u001b[0m\u001b[0;34m*\u001b[0m\u001b[0mnp\u001b[0m\u001b[0;34m.\u001b[0m\u001b[0mrandom\u001b[0m\u001b[0;34m.\u001b[0m\u001b[0mbinomial\u001b[0m\u001b[0;34m(\u001b[0m\u001b[0;36m1\u001b[0m\u001b[0;34m,\u001b[0m \u001b[0;36m0.499\u001b[0m\u001b[0;34m,\u001b[0m \u001b[0mlen\u001b[0m\u001b[0;34m(\u001b[0m\u001b[0mn\u001b[0m\u001b[0;34m)\u001b[0m\u001b[0;34m)\u001b[0m \u001b[0;34m-\u001b[0m \u001b[0;36m1\u001b[0m\u001b[0;34m\u001b[0m\u001b[0;34m\u001b[0m\u001b[0m\n\u001b[1;32m     31\u001b[0m         \u001b[0mw\u001b[0m \u001b[0;34m+=\u001b[0m \u001b[0mnp\u001b[0m\u001b[0;34m.\u001b[0m\u001b[0mouter\u001b[0m\u001b[0;34m(\u001b[0m\u001b[0mx\u001b[0m\u001b[0;34m,\u001b[0m \u001b[0mx\u001b[0m\u001b[0;34m)\u001b[0m\u001b[0;34m\u001b[0m\u001b[0;34m\u001b[0m\u001b[0m\n\u001b[0;32m---> 32\u001b[0;31m         \u001b[0mnp\u001b[0m\u001b[0;34m.\u001b[0m\u001b[0mfill_diagonal\u001b[0m\u001b[0;34m(\u001b[0m\u001b[0mw\u001b[0m\u001b[0;34m,\u001b[0m \u001b[0;36m0\u001b[0m\u001b[0;34m)\u001b[0m\u001b[0;34m\u001b[0m\u001b[0;34m\u001b[0m\u001b[0m\n\u001b[0m\u001b[1;32m     33\u001b[0m         \u001b[0mx_aux\u001b[0m \u001b[0;34m=\u001b[0m \u001b[0mnp\u001b[0m\u001b[0;34m.\u001b[0m\u001b[0mdot\u001b[0m\u001b[0;34m(\u001b[0m\u001b[0mw\u001b[0m\u001b[0;34m,\u001b[0m \u001b[0mx\u001b[0m\u001b[0;34m.\u001b[0m\u001b[0mflatten\u001b[0m\u001b[0;34m(\u001b[0m\u001b[0;34m)\u001b[0m\u001b[0;34m)\u001b[0m\u001b[0;34m\u001b[0m\u001b[0;34m\u001b[0m\u001b[0m\n\u001b[1;32m     34\u001b[0m         \u001b[0mx_aux\u001b[0m \u001b[0;34m=\u001b[0m \u001b[0msigno\u001b[0m\u001b[0;34m(\u001b[0m\u001b[0mx_aux\u001b[0m\u001b[0;34m)\u001b[0m\u001b[0;34m\u001b[0m\u001b[0;34m\u001b[0m\u001b[0m\n",
      "\u001b[0;32m~/.local/lib/python3.10/site-packages/numpy/lib/index_tricks.py\u001b[0m in \u001b[0;36m_fill_diagonal_dispatcher\u001b[0;34m(a, val, wrap)\u001b[0m\n\u001b[1;32m    779\u001b[0m \u001b[0;34m\u001b[0m\u001b[0m\n\u001b[1;32m    780\u001b[0m \u001b[0;34m\u001b[0m\u001b[0m\n\u001b[0;32m--> 781\u001b[0;31m \u001b[0;32mdef\u001b[0m \u001b[0m_fill_diagonal_dispatcher\u001b[0m\u001b[0;34m(\u001b[0m\u001b[0ma\u001b[0m\u001b[0;34m,\u001b[0m \u001b[0mval\u001b[0m\u001b[0;34m,\u001b[0m \u001b[0mwrap\u001b[0m\u001b[0;34m=\u001b[0m\u001b[0;32mNone\u001b[0m\u001b[0;34m)\u001b[0m\u001b[0;34m:\u001b[0m\u001b[0;34m\u001b[0m\u001b[0;34m\u001b[0m\u001b[0m\n\u001b[0m\u001b[1;32m    782\u001b[0m     \u001b[0;32mreturn\u001b[0m \u001b[0;34m(\u001b[0m\u001b[0ma\u001b[0m\u001b[0;34m,\u001b[0m\u001b[0;34m)\u001b[0m\u001b[0;34m\u001b[0m\u001b[0;34m\u001b[0m\u001b[0m\n\u001b[1;32m    783\u001b[0m \u001b[0;34m\u001b[0m\u001b[0m\n",
      "\u001b[0;31mKeyboardInterrupt\u001b[0m: "
     ]
    }
   ],
   "source": [
    "# Calculando como varía la capacidad de almacenamiento en funcion de la similitud de los patrones\n",
    "\n",
    "import numpy as np\n",
    "import matplotlib.pyplot as plt\n",
    "\n",
    "def signo(x):\n",
    "    x = np.where(x > 0, 1, -1)\n",
    "    return x\n",
    "\n",
    "# Definición de variables\n",
    "e_probability = [0.001, 0.0036, 0.01, 0.05, 0.1]\n",
    "C_esperado = [0.105, 0.138, 0.185, 0.37, 0.61]\n",
    "# Inicialización de resultados\n",
    "p_error = np.zeros(len(e_probability))\n",
    "C = np.zeros(p_error.shape)\n",
    "img_ancho = 100\n",
    "\n",
    "pixeles_distintos = 2\n",
    "\n",
    "# generacion de patrones\n",
    "x = 2*np.random.binomial(1, 0.499, img_ancho**2) - 1\n",
    "w = np.outer(x, x)\n",
    "p_max = 0\n",
    "# Cálculo de resultados\n",
    "for i in range(len(e_probability)):\n",
    "    \n",
    "    while p_error[i] < e_probability[i]:\n",
    "        # generación de patrones\n",
    "        n = np.random.randint(0, img_ancho**2, pixeles_distintos)\n",
    "        x[n] = 2*np.random.binomial(1, 0.499, len(n)) - 1\n",
    "        w += np.outer(x, x)\n",
    "        np.fill_diagonal(w, 0)\n",
    "        x_aux = np.dot(w, x.flatten())\n",
    "        x_aux = signo(x_aux)\n",
    "        p_max += 1\n",
    "        p_error[i] = np.mean(x_aux != x)\n",
    "\n",
    "\n",
    "    C[i] = (p_max-1)/(x.size)\n",
    "    print('Probabilidad de error calculada: ', p_error[i], 'para una probabilidad de ', e_probability[i])\n",
    "    print('Capacidad de almacenamiento calculada: ', C[i], 'para una capacidad esperada de ', C_esperado[i])"
   ]
  }
 ],
 "metadata": {
  "kernelspec": {
   "display_name": "Python 3",
   "language": "python",
   "name": "python3"
  },
  "language_info": {
   "codemirror_mode": {
    "name": "ipython",
    "version": 3
   },
   "file_extension": ".py",
   "mimetype": "text/x-python",
   "name": "python",
   "nbconvert_exporter": "python",
   "pygments_lexer": "ipython3",
   "version": "3.10.12"
  }
 },
 "nbformat": 4,
 "nbformat_minor": 2
}
