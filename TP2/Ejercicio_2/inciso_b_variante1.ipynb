{
 "cells": [
  {
   "cell_type": "code",
   "execution_count": null,
   "metadata": {},
   "outputs": [],
   "source": [
    "# Variante 1\n",
    "\n",
    "import numpy as np\n",
    "\n",
    "def signo(x):\n",
    "    x = np.where(x > 0, 1, -1)\n",
    "    return x\n",
    "\n",
    "# Definición de variables\n",
    "e_probabilidad = [0.001, 0.0036, 0.01, 0.05, 0.1]\n",
    "C_esperado = [0.105, 0.138, 0.185, 0.37, 0.61]\n",
    "# Inicialización de resultados\n",
    "p_error = np.zeros(len(e_probabilidad))\n",
    "C = np.zeros(p_error.shape)\n",
    "N = 10000\n",
    "\n",
    "# Inicialización de p_max y capacidad\n",
    "p_max = 1\n",
    "Capacidad = np.zeros(len(C_esperado)) # inicializo en 1/N porque ya le estoy enseñando el primer patrón antes de entrar al while\n",
    "patron_0 = 2*np.random.binomial(1, 0.5, N) - 1\n",
    "w = np.outer(patron_0, patron_0)\n",
    "np.fill_diagonal(w, 0)\n",
    "n = 10\n",
    "x = patron_0\n",
    "# Cálculo de resultados\n",
    "for i in range(len(e_probabilidad)):\n",
    "    \n",
    "    while p_error[i] < e_probabilidad[i]:\n",
    "        # generación de patrones\n",
    "        pixeles_distintos = np.random.randint(0, N-1, n)\n",
    "        x[pixeles_distintos] = 2*np.random.binomial(1, 0.5, n) - 1\n",
    "        w += np.outer(x, x)\n",
    "        np.fill_diagonal(w, 0)\n",
    "        x_aux = np.dot(w, x.flatten())\n",
    "        x_aux = signo(x_aux)\n",
    "        p_max += 1\n",
    "        p_error[i] = np.mean(x_aux != x)\n",
    "\n",
    "\n",
    "    C[i] = (p_max-1)/(x.size)\n",
    "    print('Capacidad de almacenamiento calculada de: ', Capacidad[i], 'para una probabilidad de error de', p_error[i])  "
   ]
  }
 ],
 "metadata": {
  "language_info": {
   "name": "python"
  }
 },
 "nbformat": 4,
 "nbformat_minor": 2
}
