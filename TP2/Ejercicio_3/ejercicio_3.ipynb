{
 "cells": [
  {
   "cell_type": "code",
   "execution_count": 5,
   "metadata": {},
   "outputs": [
    {
     "data": {
      "image/png": "[encoded data removed]",
      "text/plain": [
       "<Figure size 432x288 with 1 Axes>"
      ]
     },
     "metadata": {
      "needs_background": "light"
     },
     "output_type": "display_data"
    }
   ],
   "source": [
    "import numpy as np\n",
    "import matplotlib.pyplot as plt\n",
    "\n",
    "def signo(x):\n",
    "    x = np.where(x > 0, 1, -1)\n",
    "    return x\n",
    "\n",
    "img_ancho = 10\n",
    "\n",
    "# generacion de patrones\n",
    "w = np.zeros((img_ancho**2, img_ancho**2))\n",
    "p_max = 0\n",
    "\n",
    "# generacion de patrones ruidosos\n",
    "x = 2*np.random.binomial(1, 0.5, (img_ancho**2, 2)) - 1\n",
    "w = np.zeros((img_ancho**2, img_ancho**2))\n",
    "\n",
    "for i in range(len(x[0, :])):\n",
    "    w += np.outer(x[:, i], x[:, i])\n",
    "    np.fill_diagonal(w, 0)\n",
    "\n",
    "# vector que determina la cantidad de sinapsis a eliminar\n",
    "h = np.arange(0, (3*w.size)//4, 2)\n",
    "h1 = np.argwhere(w != 0)\n",
    "h1 = np.random.permutation(h1)\n",
    "p_error = np.zeros(h.shape)\n",
    "\n",
    "for i in range(len(h)):\n",
    "    w1 = w.copy()\n",
    "    w1[:h[i]] = 0\n",
    "\n",
    "    for j in range(len(x[0, :])):\n",
    "        p_error[i] += np.sum(np.mean(signo(np.dot(w1, x[:, j])) != x[:, j]))\n",
    "    p_error[i] /= len(x[0, :])\n",
    "\n",
    "\n",
    "plt.plot((h/w.size)*100,p_error)\n",
    "plt.show()"
   ]
  }
 ],
 "metadata": {
  "kernelspec": {
   "display_name": "Python 3",
   "language": "python",
   "name": "python3"
  },
  "language_info": {
   "codemirror_mode": {
    "name": "ipython",
    "version": 3
   },
   "file_extension": ".py",
   "mimetype": "text/x-python",
   "name": "python",
   "nbconvert_exporter": "python",
   "pygments_lexer": "ipython3",
   "version": "3.10.12"
  }
 },
 "nbformat": 4,
 "nbformat_minor": 2
}
