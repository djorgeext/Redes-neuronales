{
 "cells": [
  {
   "cell_type": "code",
   "execution_count": 351,
   "metadata": {},
   "outputs": [
    {
     "data": {
      "image/png": "[encoded data removed]",
      "text/plain": [
       "<Figure size 432x288 with 1 Axes>"
      ]
     },
     "metadata": {
      "needs_background": "light"
     },
     "output_type": "display_data"
    }
   ],
   "source": [
    "import numpy as np\n",
    "import matplotlib.pyplot as plt\n",
    "\n",
    "# Parámetros del algoritmo\n",
    "alpha = 0.99\n",
    "mu = 0\n",
    "var = 0.8\n",
    "k = 1\n",
    "T_max = 20\n",
    "T_min = 1e-6\n",
    "E_target = 1e-4\n",
    "N = 4  # cantidad de neuronas en la capa oculta\n",
    "size_X = 2  # cantidad de entradas\n",
    "\n",
    "# Datos de entrada y salida esperada para la compuerta XOR\n",
    "X = np.array([[-1, -1], [1, -1], [-1, 1], [1, 1]])\n",
    "y_d = np.array([-1, 1, 1, -1])  # salida XOR\n",
    "\n",
    "# Inicialización de los pesos sinápticos\n",
    "W1 = np.random.normal(mu, var, (size_X, N))  # Pesos para la capa de entrada a oculta\n",
    "W2 = np.random.normal(mu, var, (N, 1))  # Pesos para la capa oculta a salida\n",
    "b1 = np.random.normal(mu, var, N)  # Sesgo de la capa oculta\n",
    "b2 = np.random.normal(mu, var)  # Sesgo de la capa de salida\n",
    "\n",
    "# Definir la función de activación\n",
    "def tanh(x: np.ndarray) -> np.ndarray:\n",
    "    return np.tanh(x)\n",
    "\n",
    "# Función de propagación hacia adelante\n",
    "def forward(x: np.ndarray, W1: np.ndarray, W2: np.ndarray, b1: np.ndarray, b2: float) -> float:\n",
    "    z1 = np.dot(x, W1) + b1\n",
    "    a1 = tanh(z1)\n",
    "    z2 = np.dot(a1, W2) + b2\n",
    "    a2 = tanh(z2)\n",
    "    return a2\n",
    "\n",
    "# Cálculo del error\n",
    "def calcular_error(y_d: np.ndarray, y_pred: np.ndarray) -> float:\n",
    "    return 0.5 * np.sum((y_d - y_pred) ** 2)\n",
    "\n",
    "# Algoritmo de Simulated Annealing\n",
    "T = T_max  # temperatura inicial\n",
    "E_vec = []\n",
    "\n",
    "# Primer recorrido para inicializar el error\n",
    "y_pred = np.array([forward(X[i], W1, W2, b1, b2) for i in range(len(X))])\n",
    "E = calcular_error(y_d, y_pred.flatten())\n",
    "E_vec.append(E)\n",
    "\n",
    "# Bucle principal del algoritmo de recocido simulado\n",
    "while E > E_target:\n",
    "    # Generación de nuevas soluciones candidatas\n",
    "    W1_ast = W1 + np.random.normal(0, var, W1.shape)\n",
    "    W2_ast = W2 + np.random.normal(0, var, W2.shape)\n",
    "    b1_ast = b1 + np.random.normal(0, var, b1.shape)\n",
    "    b2_ast = b2 + np.random.normal(0, var)\n",
    "\n",
    "    y_pred_ast = np.array([forward(X[i], W1_ast, W2_ast, b1_ast, b2_ast) for i in range(len(X))])\n",
    "    E_ast = calcular_error(y_d, y_pred_ast.flatten())\n",
    "\n",
    "    delta_E = E - E_ast\n",
    "\n",
    "    # Aceptación de la nueva solución\n",
    "    if delta_E > 0 or np.random.rand() < np.exp(-delta_E / (k * T)):\n",
    "        W1, W2, b1, b2 = W1_ast, W2_ast, b1_ast, b2_ast\n",
    "        E = E_ast\n",
    "\n",
    "    E_vec.append(E)\n",
    "\n",
    "    # Verificación de la temperatura mínima\n",
    "    if T < T_min:\n",
    "        print(\"No convergió, llegó a Tmin\")\n",
    "        break\n",
    "\n",
    "    T *= alpha\n",
    "\n",
    "# Gráfica del error en función de las iteraciones\n",
    "plt.figure()\n",
    "plt.plot(E_vec)\n",
    "plt.xlabel(\"Iteraciones\")\n",
    "plt.ylabel(\"Error\")\n",
    "plt.title(\"Error en función de las iteraciones, con varianza = 0.8\")\n",
    "plt.grid(True)\n",
    "plt.show()"
   ]
  }
 ],
 "metadata": {
  "kernelspec": {
   "display_name": "Python 3",
   "language": "python",
   "name": "python3"
  },
  "language_info": {
   "codemirror_mode": {
    "name": "ipython",
    "version": 3
   },
   "file_extension": ".py",
   "mimetype": "text/x-python",
   "name": "python",
   "nbconvert_exporter": "python",
   "pygments_lexer": "ipython3",
   "version": "3.10.12"
  }
 },
 "nbformat": 4,
 "nbformat_minor": 2
}
