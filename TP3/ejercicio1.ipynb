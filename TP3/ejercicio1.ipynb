{
 "cells": [
  {
   "cell_type": "code",
   "execution_count": null,
   "metadata": {},
   "outputs": [],
   "source": [
    "import matplotlib.pyplot as plt\n",
    "import numpy as np\n",
    "import math\n",
    "\n",
    "# Genera los datos de entrada\n",
    "def generar_datos(N):\n",
    "    x = np.random.uniform(-1, 1, N)\n",
    "    y = np.array([np.random.uniform(-math.sqrt(1 - v**2), math.sqrt(1 - v**2)) for v in x])\n",
    "    return np.column_stack((x, y))\n",
    "\n",
    "# Entrena la red de Kohonen\n",
    "def entrenar_kohonen(xi, N, sigma, eta, step, lim):\n",
    "    W = np.random.uniform(-0.01, 0.01, (N, xi.shape[1]))\n",
    "    M = int(math.sqrt(N))\n",
    "    \n",
    "    while sigma > lim:\n",
    "        np.random.shuffle(xi)\n",
    "        for vector in xi:\n",
    "            dist = np.linalg.norm(W - vector, axis=1)\n",
    "            loc = np.argmin(dist)\n",
    "\n",
    "            loc_row, loc_col = loc // M, loc % M\n",
    "            indices = np.indices((M, M)).reshape(2, -1).T\n",
    "            distancias = np.linalg.norm(indices - [loc_row, loc_col], axis=1)\n",
    "            vecinos = np.exp(-(distancias**2) / (2 * sigma**2))\n",
    "\n",
    "            W += eta * vecinos[:, np.newaxis] * (vector - W)\n",
    "\n",
    "        sigma -= sigma * step\n",
    "    return W\n",
    "\n",
    "# Parámetros\n",
    "L = 100\n",
    "N = 100\n",
    "lim = 0.1\n",
    "step = 0.01\n",
    "eta = 0.6\n",
    "sigma = 2\n",
    "\n",
    "# Generar datos y entrenar la red de Kohonen\n",
    "datos = generar_datos(L)\n",
    "W = entrenar_kohonen(datos, N, sigma, eta, step, lim)\n",
    "\n",
    "# Graficar resultados\n",
    "M = int(math.sqrt(N))\n",
    "plt.figure()\n",
    "plt.plot(W[:, 0].reshape(M, M), W[:, 1].reshape(M, M), color='blue')\n",
    "plt.plot(W[:, 0].reshape(M, M).T, W[:, 1].reshape(M, M).T, color='blue')\n",
    "plt.scatter(datos[:, 0], datos[:, 1], alpha=0.7, s=10, color='black')\n",
    "plt.show()"
   ]
  }
 ],
 "metadata": {
  "language_info": {
   "name": "python"
  }
 },
 "nbformat": 4,
 "nbformat_minor": 2
}
