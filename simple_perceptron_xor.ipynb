{
 "cells": [
  {
   "cell_type": "code",
   "execution_count": 53,
   "metadata": {},
   "outputs": [
    {
     "name": "stdout",
     "output_type": "stream",
     "text": [
      "Input:  [0 0] Output:  -0.7423546325619493\n",
      "Input:  [0 1] Output:  -0.6342264793935952\n",
      "Input:  [1 0] Output:  -1.560018203501238\n",
      "Input:  [1 1] Output:  -1.451890050332884\n"
     ]
    },
    {
     "data": {
      "image/png": "[encoded data removed]",
      "text/plain": [
       "<Figure size 432x288 with 1 Axes>"
      ]
     },
     "metadata": {
      "needs_background": "light"
     },
     "output_type": "display_data"
    }
   ],
   "source": [
    "# Simple perceptron implementation for a XOR gate\n",
    "\n",
    "import numpy as np\n",
    "import matplotlib.pyplot as plt\n",
    "\n",
    "# Define the activation function\n",
    "\n",
    "# initialize the weights\n",
    "w = np.random.randn(2)\n",
    "b = np.random.randn()\n",
    "\n",
    "# Define the learning rate\n",
    "lr = 0.0001\n",
    "\n",
    "# Define the number of iterations\n",
    "n_iter = 1000\n",
    "\n",
    "# Define the input data\n",
    "X = np.array([[0,0],[0,1],[1,0],[1,1]])\n",
    "Yd = np.array([0,1,1,0])\n",
    "# Alternatively, we could use the following code to define the input data\n",
    "#X = np.array([[-1,-1],[-1,1],[1,-1],[1,1]])\n",
    "#Yd = np.array([-1,1,1,-1])\n",
    "\n",
    "# Define the activation function\n",
    "def sigmoid(x):\n",
    "    return 1/(1+np.exp(-x))\n",
    "\n",
    "# Define the derivative of the activation function\n",
    "def dsigmoid(x):\n",
    "    return x*(1-x)\n",
    "\n",
    "errors = []\n",
    "\n",
    "\n",
    "# Define perceptron function\n",
    "def perceptron(inp, w, b, sald, lr):\n",
    "    Y = np.sum(inp * (inp.dot(w) + b))\n",
    "    Y = sigmoid(Y)\n",
    "    error = 0.5*(Y - sald)**2\n",
    "    errors.append(error)\n",
    "    delta = (Y - sald)*dsigmoid(Y)*(2*inp.dot(w) + b + np.sum(inp**2))\n",
    "    w = w - lr*inp*delta\n",
    "    b = b - lr*delta\n",
    "    return w, b, errors\n",
    "\n",
    "# Train the perceptron\n",
    "for i in range(n_iter):\n",
    "    for j in range(4):\n",
    "        w, b, errors = perceptron(X[j], w, b, Yd[j], lr)\n",
    "\n",
    "# test the perceptron\n",
    "for i in range(4):\n",
    "    Y = X[i].dot(w) + b\n",
    "    print(\"Input: \", X[i], \"Output: \", Y)\n",
    "\n",
    "\n",
    "\n",
    "# Plot the error\n",
    "plt.plot(errors)\n",
    "plt.show()"
   ]
  }
 ],
 "metadata": {
  "kernelspec": {
   "display_name": "Python 3",
   "language": "python",
   "name": "python3"
  },
  "language_info": {
   "codemirror_mode": {
    "name": "ipython",
    "version": 3
   },
   "file_extension": ".py",
   "mimetype": "text/x-python",
   "name": "python",
   "nbconvert_exporter": "python",
   "pygments_lexer": "ipython3",
   "version": "3.10.12"
  }
 },
 "nbformat": 4,
 "nbformat_minor": 2
}
